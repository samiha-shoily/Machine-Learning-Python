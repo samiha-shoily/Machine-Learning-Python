{
 "cells": [
  {
   "cell_type": "code",
   "execution_count": 3,
   "metadata": {},
   "outputs": [],
   "source": [
    "import pandas as pd\n",
    "import numpy as np\n",
    "\n",
    "# for Box-Cox Transformation\n",
    "from scipy import stats\n",
    "\n",
    "\n",
    "# plotting modules\n",
    "import seaborn as sns\n",
    "import matplotlib.pyplot as plt\n",
    "\n",
    "# set seed for reproducibility\n",
    "np.random.seed(0)"
   ]
  },
  {
   "cell_type": "code",
   "execution_count": 16,
   "metadata": {},
   "outputs": [
    {
     "name": "stdout",
     "output_type": "stream",
     "text": [
      "         perform\n",
      "group           \n",
      "1      63.331713\n",
      "1      68.318079\n",
      "1      86.656550\n",
      "1      52.824337\n",
      "1      75.009162\n",
      "1      57.988857\n",
      "1      69.482999\n",
      "1      32.682484\n",
      "1      60.883310\n",
      "1      58.242591\n",
      "1      45.540522\n",
      "1      44.924392\n",
      "1      67.037786\n",
      "1      62.990296\n",
      "1      66.629025\n",
      "1      65.531316\n",
      "1      59.581269\n",
      "1      85.650437\n",
      "1      64.551345\n",
      "1      83.738913\n",
      "2      72.848222\n",
      "2      88.167254\n",
      "2      80.818685\n",
      "2      71.270230\n",
      "2      81.499397\n",
      "2      47.558133\n",
      "2      81.042566\n",
      "2      81.376201\n",
      "2      82.960750\n",
      "2      75.983553\n",
      "2      77.348310\n",
      "2      69.308343\n",
      "2      61.685078\n",
      "2      64.874808\n",
      "2      75.426577\n",
      "2      59.833987\n",
      "2      89.646745\n",
      "2      59.097383\n",
      "2      76.142567\n",
      "2      74.464466\n",
      "3      82.331916\n",
      "3      89.687412\n",
      "3      81.014056\n",
      "3      85.087312\n",
      "3      74.142584\n",
      "3      75.929226\n",
      "3      74.736697\n",
      "3      81.134796\n",
      "3      76.362381\n",
      "3      81.771892\n",
      "3      83.323125\n",
      "3      81.658127\n",
      "3      71.768995\n",
      "3      81.038192\n",
      "3      78.667902\n",
      "3      74.856779\n",
      "3      77.446139\n",
      "3      79.365277\n",
      "3      73.885370\n",
      "3      81.376684\n"
     ]
    }
   ],
   "source": [
    "original_data = pd.read_csv(\"data.csv\", index_col = None)\n",
    "original_data.set_index(\"group\", inplace=True)\n",
    "print(original_data)"
   ]
  },
  {
   "cell_type": "code",
   "execution_count": 21,
   "metadata": {},
   "outputs": [
    {
     "name": "stdout",
     "output_type": "stream",
     "text": [
      "Index(['perform'], dtype='object')\n"
     ]
    }
   ],
   "source": [
    "f_data = original_data[\"perform\"]\n",
    "print(original_data.columns)"
   ]
  },
  {
   "cell_type": "code",
   "execution_count": 23,
   "metadata": {},
   "outputs": [
    {
     "data": {
      "text/plain": [
       "Text(0.5, 1.0, 'Normalized data')"
      ]
     },
     "execution_count": 23,
     "metadata": {},
     "output_type": "execute_result"
    },
    {
     "data": {
      "image/png": "[encoded data removed]",
      "text/plain": [
       "<Figure size 432x288 with 2 Axes>"
      ]
     },
     "metadata": {
      "needs_background": "light"
     },
     "output_type": "display_data"
    }
   ],
   "source": [
    "#ormalize the exponential data with boxcox\n",
    "normalized_data = stats.boxcox(f_data)\n",
    "\n",
    "# plot both together to compare\n",
    "fig, ax=plt.subplots(1,2)\n",
    "sns.distplot(f_data, ax=ax[0])\n",
    "ax[0].set_title(\"Original Data\")\n",
    "sns.distplot(normalized_data[0], ax=ax[1])\n",
    "ax[1].set_title(\"Normalized data\")"
   ]
  },
  {
   "cell_type": "code",
   "execution_count": 24,
   "metadata": {},
   "outputs": [
    {
     "name": "stdout",
     "output_type": "stream",
     "text": [
      "group\n",
      "1    115874.006410\n",
      "1    146363.545681\n",
      "1    304587.684799\n",
      "1     66244.899012\n",
      "1    195210.009296\n",
      "1     88310.383286\n",
      "1    154193.055086\n",
      "1     15082.093638\n",
      "1    102614.930052\n",
      "1     89506.779158\n",
      "1     41932.487363\n",
      "1     40208.438606\n",
      "1    138073.426281\n",
      "1    113959.472047\n",
      "1    135495.009949\n",
      "1    128732.136692\n",
      "1     96000.571224\n",
      "1    293819.305558\n",
      "1    122890.605967\n",
      "1    274074.347953\n",
      "2    178391.111869\n",
      "2    321252.581404\n",
      "2    245671.951906\n",
      "2    166747.606257\n",
      "2    252105.669361\n",
      "2     47926.727514\n",
      "2    247775.559107\n",
      "2    250932.957065\n",
      "2    266300.146448\n",
      "2    203131.998075\n",
      "2    214588.814537\n",
      "2    153001.578847\n",
      "2    106837.293139\n",
      "2    124798.505233\n",
      "2    198577.613418\n",
      "2     97261.149839\n",
      "2    338159.718619\n",
      "2     93617.792868\n",
      "2    204445.082041\n",
      "2    190873.825098\n",
      "3    260127.725562\n",
      "3    338632.745587\n",
      "3    247507.003464\n",
      "3    287905.973763\n",
      "3    188342.256771\n",
      "3    202684.690982\n",
      "3    193032.756704\n",
      "3    248645.686381\n",
      "3    206269.652027\n",
      "3    254712.722800\n",
      "3    269901.634553\n",
      "3    253622.087384\n",
      "3    170370.538062\n",
      "3    247734.338005\n",
      "3    226074.068350\n",
      "3    193990.293345\n",
      "3    215426.429280\n",
      "3    232308.166602\n",
      "3    186335.664624\n",
      "3    250937.541416\n",
      "dtype: float64\n"
     ]
    }
   ],
   "source": [
    "normalized_data1 = pd.Series(normalized_data[0], index= original_data.index)\n",
    "print(normalized_data1)\n",
    "normalized_data1.to_csv(\"normalized.csv\")"
   ]
  },
  {
   "cell_type": "code",
   "execution_count": 26,
   "metadata": {},
   "outputs": [
    {
     "name": "stdout",
     "output_type": "stream",
     "text": [
      "Original data\n",
      "Preview:\n",
      "          perform\n",
      "group           \n",
      "1      63.331713\n",
      "1      68.318079\n",
      "1      86.656550\n",
      "1      52.824337\n",
      "1      75.009162\n",
      "Minimum value: 32.682483673095696 \n",
      "Maximum value: 89.68741154670721\n",
      "______________________________\n",
      "\n",
      "Normalized data\n",
      "Preview:\n",
      " group\n",
      "1    115874.006410\n",
      "1    146363.545681\n",
      "1    304587.684799\n",
      "1     66244.899012\n",
      "1    195210.009296\n",
      "dtype: float64\n",
      "Minimum value: 15082.093638097127 \n",
      "Maximum value: 338632.7455869771\n"
     ]
    }
   ],
   "source": [
    "print('Original data\\nPreview:\\n', original_data.head())\n",
    "print('Minimum value:', float(original_data.min()),\n",
    "      '\\nMaximum value:', float(original_data.max()))\n",
    "print('_'*30)\n",
    "\n",
    "print('\\nNormalized data\\nPreview:\\n', normalized_data1.head())\n",
    "print('Minimum value:', float(normalized_data1.min()),\n",
    "      '\\nMaximum value:', float(normalized_data1.max()))"
   ]
  },
  {
   "cell_type": "code",
   "execution_count": null,
   "metadata": {},
   "outputs": [],
   "source": [
    " "
   ]
  }
 ],
 "metadata": {
  "kernelspec": {
   "display_name": "Python 3",
   "language": "python",
   "name": "python3"
  },
  "language_info": {
   "codemirror_mode": {
    "name": "ipython",
    "version": 3
   },
   "file_extension": ".py",
   "mimetype": "text/x-python",
   "name": "python",
   "nbconvert_exporter": "python",
   "pygments_lexer": "ipython3",
   "version": "3.7.6"
  }
 },
 "nbformat": 4,
 "nbformat_minor": 4
}
